{
  "nbformat": 4,
  "nbformat_minor": 0,
  "metadata": {
    "colab": {
      "provenance": []
    },
    "kernelspec": {
      "name": "python3",
      "display_name": "Python 3"
    },
    "language_info": {
      "name": "python"
    },
    "gpuClass": "standard"
  },
  "cells": [
    {
      "cell_type": "markdown",
      "source": [
        "# Несбалансированные выборки. Практическая работа"
      ],
      "metadata": {
        "id": "9eF9F2FVBpWX"
      }
    },
    {
      "cell_type": "markdown",
      "source": [
        "## Цель практической работы\n",
        "\n",
        "Научиться обрабатывать несбалансированные данные и обучать модели машинного обучения на таких данных."
      ],
      "metadata": {
        "id": "MUo9HeJiBmFx"
      }
    },
    {
      "cell_type": "markdown",
      "source": [
        "## Что входит в работу\n",
        "\n",
        "\n",
        "1. Загрузить данные и провести разведочный анализ.\n",
        "2. Разделить данные на обучающую и тестовую выборки.\n",
        "3. Подготовить данные для моделирования.\n",
        "4. Сбалансировать данные методом SMOTE и обучить модель машинного обучения.\n",
        "5. Обучить модель машинного обучения с использованием весов классов и кросс-валидации.\n",
        "6. Сравнить метрики качества четырёх моделей.\n",
        "\n",
        "\n"
      ],
      "metadata": {
        "id": "Vzx_4gqxB6Ug"
      }
    },
    {
      "cell_type": "markdown",
      "source": [
        "## Что оценивается \n",
        "\n",
        "- Выполнены все этапы работы.\n",
        "- Не допущена утечка данных при разделении выборок и подготовке данных.\n",
        "- Данные корректным образом сбалансированы.\n",
        "- Модели не переобучены.\n"
      ],
      "metadata": {
        "id": "mIR4D9d7B90r"
      }
    },
    {
      "cell_type": "markdown",
      "source": [
        "## Как отправить работу на проверку\n",
        "\n",
        "Скачайте файл с заданиями в материалах, откройте его через Jupyter Notebook и выполните задания. Сохраните изменения при помощи опции Save and Checkpoint из вкладки меню File или кнопки Save and Checkpoint на панели инструментов. Отправьте через форму ниже итоговый файл Jupyter Notebook (в формате .ipynb) или ссылку на него.\n"
      ],
      "metadata": {
        "id": "eCZ1TMt0CBBY"
      }
    },
    {
      "cell_type": "markdown",
      "source": [
        "# Задача\n",
        "\n",
        "Пусть у нас имеется некоторый набор данных `german_credit_data.csv` о заёмщиках банка:"
      ],
      "metadata": {
        "id": "byYgWFXWCEUP"
      }
    },
    {
      "cell_type": "markdown",
      "source": [
        "* Age — возраст заёмщика.\n",
        "* Sex — пол заёмщика.\n",
        "* Job — тип работы заёмщика.\n",
        "* Housing — тип жилья заёмщика.\n",
        "* Saving accounts — объём средств на сберегательных счетах заёмщика.\n",
        "* Checking account — объём средств на основном счёте заёмщика.\n",
        "* Credit amount — размер кредита. \n",
        "* Duration — срок кредита (в месяцах).\n",
        "* Purpose — цель кредита.\n",
        "* Risk — таргет, допустил ли заёмщик просрочку платежей по кредиту.\n",
        "\n",
        "Решите задачу классификации заёмщиков, чтобы банк умел заранее предсказывать просрочку платежей по кредиту. \n",
        "\n"
      ],
      "metadata": {
        "id": "A2jH3ATlCG8g"
      }
    },
    {
      "cell_type": "markdown",
      "source": [
        "# Задание 1\n",
        "\n",
        "Загрузите датасет и выполните разведочный анализ данных. Сделайте выводы о найденных закономерностях, особенностях и других свойствах данных, которые вы обнаружите."
      ],
      "metadata": {
        "id": "vsKhI6p8CQ5b"
      }
    },
    {
      "cell_type": "code",
      "source": [],
      "metadata": {
        "id": "UNvKHWNjzGxw"
      },
      "execution_count": null,
      "outputs": []
    },
    {
      "cell_type": "markdown",
      "source": [
        "# Задание 2\n",
        "\n",
        "Разделите датасет на обучающую и тестовую выборки в пропорции 80:20. Разделение должно быть стратифицированным по таргету Risk.\n",
        "\n",
        "В этом и следующих заданиях используйте random_state = 1."
      ],
      "metadata": {
        "id": "lYEL0ZX_REkj"
      }
    },
    {
      "cell_type": "code",
      "source": [],
      "metadata": {
        "id": "PY2Ea9ETzH9f"
      },
      "execution_count": null,
      "outputs": []
    },
    {
      "cell_type": "markdown",
      "source": [
        "# Задание 3\n",
        "\n",
        "Проведите этап очистки и подготовки данных (data preparation) и подготовьте данные к моделированию."
      ],
      "metadata": {
        "id": "W9rsryWmVTm_"
      }
    },
    {
      "cell_type": "code",
      "source": [],
      "metadata": {
        "id": "pRD0SVykzKDV"
      },
      "execution_count": null,
      "outputs": []
    },
    {
      "cell_type": "markdown",
      "source": [
        "# Задание 4\n",
        "\n",
        "Сбалансируйте обучающую выборку методом SMOTE и обучите модель RandomForestClassifier. Подберите оптимальные гиперпараметры с помощью GridSearch. Посчитайте метрику ROC-AUC на тестовой выборке."
      ],
      "metadata": {
        "id": "Lfve80cbldFX"
      }
    },
    {
      "cell_type": "code",
      "source": [],
      "metadata": {
        "id": "yVfrSFCszMD_"
      },
      "execution_count": null,
      "outputs": []
    },
    {
      "cell_type": "markdown",
      "source": [
        "# Задание 5\n",
        "\n",
        "Обучите модель RandomForestClassifier с использованием весов классов. Подберите оптимальные веса и гиперпараметры с помощью GridSearch. Посчитайте метрику ROC-AUC на тестовой выборке."
      ],
      "metadata": {
        "id": "B1ysndUDu5YU"
      }
    },
    {
      "cell_type": "code",
      "source": [],
      "metadata": {
        "id": "3IQbqeCvzNAp"
      },
      "execution_count": null,
      "outputs": []
    }
  ]
}