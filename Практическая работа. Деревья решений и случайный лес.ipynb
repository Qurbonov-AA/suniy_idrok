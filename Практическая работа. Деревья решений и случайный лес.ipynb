{
  "nbformat": 4,
  "nbformat_minor": 0,
  "metadata": {
    "colab": {
      "provenance": []
    },
    "kernelspec": {
      "name": "python3",
      "display_name": "Python 3"
    },
    "language_info": {
      "name": "python"
    }
  },
  "cells": [
    {
      "cell_type": "markdown",
      "source": [
        "# Случайный лес\n",
        "\n",
        "В этом практическом задании вы решите задачу регрессии на реальных данных при помощи линейной модели и случайного леса. "
      ],
      "metadata": {
        "id": "wGUh9-kKDVk_"
      }
    },
    {
      "cell_type": "markdown",
      "source": [
        "## Цели практической работы\n",
        "\n",
        "* Научиться применять случайный лес в задаче регрессии.\n",
        "* Научиться сравнивать качество случайного леса с качеством линейной модели.\n",
        "* Научиться настраивать гиперпараметры леса."
      ],
      "metadata": {
        "id": "RS-i_3wQqtxS"
      }
    },
    {
      "cell_type": "markdown",
      "source": [
        "## Что входит в работу\n",
        "\n",
        "* Выполнить предобработку данных.\n",
        "* Обучить линейную регрессию на данных задачи.\n",
        "* Обучить случайный лес на данных задачи.\n",
        "* Подобрать гиперпараметры для леса.\n",
        "* Визуализировать важность признаков у леса."
      ],
      "metadata": {
        "id": "4Uo9gVtsqbJX"
      }
    },
    {
      "cell_type": "markdown",
      "source": [
        "## Что оценивается\n",
        "\n",
        "*  Все ячейки заполнены; при запуске ячеек  Python не выдаёт информацию об ошибках.\n",
        "*  Качество итоговой модели $R^2$ превышает 0,95.\n"
      ],
      "metadata": {
        "id": "9WSnh3hKrFZX"
      }
    },
    {
      "cell_type": "markdown",
      "source": [
        "## Что нужно сделать\n",
        "\n",
        "Постройте модели, предсказывающие стоимость автомобилей по характеристикам.\n",
        "\n",
        "Признаков у машин много, но в этой работе обойдёмся только числовыми признаками:\n",
        "*  year — год производства автомобиля;\n",
        "*  km_driven — пробег;\n",
        "*  seats — количество посадочных мест;\n",
        "*  mileage — другая характеристика пробега;\n",
        "*  engine — мощность двигателя;\n",
        "*  max_power — мощность автомобиля.\n",
        "\n",
        "Целевая переменная — selling_price."
      ],
      "metadata": {
        "id": "Tb-5iUrybT-m"
      }
    },
    {
      "cell_type": "code",
      "execution_count": null,
      "metadata": {
        "id": "0smCupJnhCRx"
      },
      "outputs": [],
      "source": [
        "import pandas as pd\n",
        "import numpy as np\n",
        "\n",
        "train = pd.read_csv(\"cars_train.csv\")\n",
        "test = pd.read_csv(\"cars_test.csv\")"
      ]
    },
    {
      "cell_type": "markdown",
      "source": [
        "Создайте объекты Xtrain, ytrain, Xtest, ytest. Запишите в них матрицы «объект — признак» и векторы целевой переменной для тренировочного и тестового датасетов."
      ],
      "metadata": {
        "id": "jTjAo4UEL3IG"
      }
    },
    {
      "cell_type": "code",
      "source": [
        "# Ваш код здесь"
      ],
      "metadata": {
        "id": "2tLR6TQAiuXf"
      },
      "execution_count": null,
      "outputs": []
    },
    {
      "cell_type": "markdown",
      "source": [
        "В тренировочных данных есть автомобили, для которых неизвестна стоимость. Удалите эти автомобили из трейна."
      ],
      "metadata": {
        "id": "TWiEH5reAKTF"
      }
    },
    {
      "cell_type": "code",
      "source": [
        "# Ваш код здесь"
      ],
      "metadata": {
        "id": "B151ci2AASUb"
      },
      "execution_count": null,
      "outputs": []
    },
    {
      "cell_type": "markdown",
      "source": [
        "Перед обучением моделей обработайте данные.\n",
        "\n",
        "Обратите внимание, что столбцы mileage, engine и max_power по смыслу числовые. Чтобы превратить их в числовые столбцы, отбросьте единицы измерения и оставьте только числа. В столбцах есть пропущенные значения, их при обработке трогать не нужно."
      ],
      "metadata": {
        "id": "3HbVvXLSlVK-"
      }
    },
    {
      "cell_type": "code",
      "source": [
        "# Ваш код здесь"
      ],
      "metadata": {
        "id": "OdvsVN9Blg7r"
      },
      "execution_count": null,
      "outputs": []
    },
    {
      "cell_type": "markdown",
      "source": [
        "Оставьте в данных только шесть числовых столбцов:\n",
        "\n",
        "year, km_driven, seats, engine, mileage, max_power"
      ],
      "metadata": {
        "id": "p43qUhHg-_-e"
      }
    },
    {
      "cell_type": "code",
      "source": [
        "# Ваш код здесь"
      ],
      "metadata": {
        "id": "vP0FYosyix7_"
      },
      "execution_count": null,
      "outputs": []
    },
    {
      "cell_type": "markdown",
      "source": [
        "Теперь заполните пропуски следующим образом:\n",
        "\n",
        "*    вычислите средние значения по столбцам тренировочной выборки;\n",
        "\n",
        "*    добавьте в пропуски в тренировочных и тестовых данных вычисленные средние."
      ],
      "metadata": {
        "id": "Q0AsRR_69ZFH"
      }
    },
    {
      "cell_type": "code",
      "source": [
        "# Ваш код здесь"
      ],
      "metadata": {
        "id": "yk0P1b6X9qqh"
      },
      "execution_count": null,
      "outputs": []
    },
    {
      "cell_type": "markdown",
      "source": [
        "Теперь на обработанных тренировочных данных обучите:\n",
        "\n",
        "*  линейную регрессию,\n",
        "*  случайный лес с параметрами по умолчанию.\n",
        "\n",
        "На обработанных тестовых данных сделайте предсказание и вычислите метрику $R^2$. "
      ],
      "metadata": {
        "id": "BUatWsDGi_rj"
      }
    },
    {
      "cell_type": "code",
      "source": [
        "# Ваш код здесь"
      ],
      "metadata": {
        "id": "cQ7iS1eu-s_8"
      },
      "execution_count": null,
      "outputs": []
    },
    {
      "cell_type": "markdown",
      "source": [
        "Какая модель получилась лучше?"
      ],
      "metadata": {
        "id": "LbbD1-qC76HW"
      }
    },
    {
      "cell_type": "code",
      "source": [
        "# Ваш ответ здесь"
      ],
      "metadata": {
        "id": "j3N-kazm767P"
      },
      "execution_count": null,
      "outputs": []
    },
    {
      "cell_type": "markdown",
      "source": [
        "Улучшите качество предсказания случайного леса путём подбора гиперпараметров:\n",
        "\n",
        "*   n_estimators,\n",
        "*   max_depth,\n",
        "*   max_features,\n",
        "*   min_samples_leaf,\n",
        "*   min_samples_split.\n",
        "\n",
        "Для подбора гиперпараметров используйте GridSearchCV. Обучайте GridSearchCV по тренировочным данным с разбивкой на три фолда и метрикой $R^2$."
      ],
      "metadata": {
        "id": "J36iRaNoBEkT"
      }
    },
    {
      "cell_type": "code",
      "source": [
        "# Ваш код здесь"
      ],
      "metadata": {
        "id": "3IWEulMqBXlv"
      },
      "execution_count": null,
      "outputs": []
    },
    {
      "cell_type": "markdown",
      "source": [
        "Теперь обучите на тренировочных данных случайный лес с найденными гиперпараметрами. Сделайте предсказание на тестовых данных и оцените его качество ($R^2$)."
      ],
      "metadata": {
        "id": "TPNNp6cPDsjD"
      }
    },
    {
      "cell_type": "code",
      "source": [
        "# Ваш код здесь"
      ],
      "metadata": {
        "id": "MPdZ9qCxDrkF"
      },
      "execution_count": null,
      "outputs": []
    },
    {
      "cell_type": "markdown",
      "source": [
        "Модель готова. Осталось её проинтерпретировать.\n",
        "\n",
        "При помощи метода model.feature_importances_ визуализируйте гистограмму важности признаков у случайного леса с настроенными гиперпараметрами."
      ],
      "metadata": {
        "id": "dpWSQeD4ENby"
      }
    },
    {
      "cell_type": "code",
      "source": [
        "# Ваш код здесь"
      ],
      "metadata": {
        "id": "7uZzKbUnD54w"
      },
      "execution_count": null,
      "outputs": []
    }
  ]
}